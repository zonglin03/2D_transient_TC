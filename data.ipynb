{
 "cells": [
  {
   "cell_type": "code",
   "execution_count": 1,
   "metadata": {},
   "outputs": [
    {
     "data": {
      "text/plain": [
       "'g:\\\\py_test\\\\CFD\\\\2D_transient_TC\\\\torch\\\\0.2X0.2\\\\0.05s\\\\全隐格式\\\\data'"
      ]
     },
     "execution_count": 1,
     "metadata": {},
     "output_type": "execute_result"
    }
   ],
   "source": [
    "import os\n",
    "import pandas as pd\n",
    "from tqdm import tqdm \n",
    "\n",
    "\n",
    "\n",
    "\n",
    "# 指定要合并的文件夹\n",
    "work_path = os.getcwd()\n",
    "if not os.path.basename(work_path) == '2D_transient_TC':\n",
    "    work_path = os.path.join(work_path, '2D_transient_TC')\n",
    "work_path = os.path.join(work_path, 'torch\\\\0.2X0.2\\\\0.05s\\\\全隐格式\\\\data')\n",
    "\n",
    "work_path"
   ]
  },
  {
   "cell_type": "code",
   "execution_count": 5,
   "metadata": {},
   "outputs": [
    {
     "name": "stdout",
     "output_type": "stream",
     "text": [
      "列表不是按从小到大排列的。\n",
      "列表现在是按从小到大排列的。\n"
     ]
    }
   ],
   "source": [
    "import torch\n",
    "\n",
    "folder_list = os.listdir(work_path)\n",
    "\n",
    "def is_sorted_tensor(tensor):\n",
    "    return torch.all(tensor[:-1] <= tensor[1:])\n",
    "\n",
    "folder_list_tensor = torch.tensor([float(x[0:5]) for x in folder_list])\n",
    "\n",
    "if is_sorted_tensor(folder_list_tensor):\n",
    "    print(\"列表是按从小到大排列的。\")\n",
    "else:\n",
    "    print(\"列表不是按从小到大排列的。\")\n",
    "\n",
    "\n",
    "# 对文件夹列表进行排序\n",
    "sorted_folder_list = sorted(folder_list, key=lambda x: float(x[0:5]))\n",
    "# 检查排序后的列表是否已按从小到大排列\n",
    "sorted_folder_list_tensor = torch.tensor([float(x[0:5]) for x in sorted_folder_list])\n",
    "if is_sorted_tensor(sorted_folder_list_tensor):\n",
    "    print(\"列表现在是按从小到大排列的。\")\n",
    "else:\n",
    "    print(\"列表仍然不是按从小到大排列的。\")\n",
    "\n"
   ]
  },
  {
   "cell_type": "code",
   "execution_count": 6,
   "metadata": {},
   "outputs": [
    {
     "name": "stderr",
     "output_type": "stream",
     "text": [
      "100%|██████████| 1200/1200 [00:18<00:00, 64.56it/s]"
     ]
    },
    {
     "name": "stdout",
     "output_type": "stream",
     "text": [
      "(12500, 1200)\n"
     ]
    },
    {
     "name": "stderr",
     "output_type": "stream",
     "text": [
      "\n"
     ]
    }
   ],
   "source": [
    "# 创建一个空的DataFrame来存储合并后的数据\n",
    "merged_data = pd.DataFrame()\n",
    "\n",
    "# 遍历文件夹中的所有文件\n",
    "for filename in tqdm(sorted_folder_list):\n",
    "    # 检查文件是否是CSV文件\n",
    "    if filename.endswith('.csv'):\n",
    "        # 拼接文件完整路径\n",
    "        file_path = os.path.join(work_path, filename)\n",
    "        # 读取CSV文件\n",
    "        csv_data = pd.read_csv(file_path, header=None)\n",
    "        # 使用concat函数将CSV数据合并到合并后的DataFrame中\n",
    "        merged_data = pd.concat([merged_data, csv_data],axis=1, ignore_index=True)\n",
    "\n",
    "# 输出合并后的数据\n",
    "print(merged_data.shape)\n",
    "\n"
   ]
  },
  {
   "cell_type": "code",
   "execution_count": 7,
   "metadata": {},
   "outputs": [],
   "source": [
    "merged_data.to_csv(os.path.join(work_path,'..')+\"\\\\tem.csv\", index=False)"
   ]
  }
 ],
 "metadata": {
  "kernelspec": {
   "display_name": "Python 3",
   "language": "python",
   "name": "python3"
  },
  "language_info": {
   "codemirror_mode": {
    "name": "ipython",
    "version": 3
   },
   "file_extension": ".py",
   "mimetype": "text/x-python",
   "name": "python",
   "nbconvert_exporter": "python",
   "pygments_lexer": "ipython3",
   "version": "3.10.9"
  }
 },
 "nbformat": 4,
 "nbformat_minor": 2
}
